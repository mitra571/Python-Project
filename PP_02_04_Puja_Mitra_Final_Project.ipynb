{
  "cells": [
    {
      "cell_type": "markdown",
      "source": [
        "Project Title: \"Personal Expense Tracker\"\n",
        " Objective\n"
      ],
      "metadata": {
        "id": "qcAsPxSL3cEO"
      }
    },
    {
      "cell_type": "markdown",
      "source": [
        " 1. Data Initialization\n",
        "    ● Store expense records in a CSV file with fields:\n",
        "      ○ Date,Category, Description, Amount.\n",
        "    ● Loadandmanipulate the data using Pandas"
      ],
      "metadata": {
        "id": "5dI3ycE63utP"
      }
    },
    {
      "cell_type": "code",
      "execution_count": 1,
      "metadata": {
        "colab": {
          "base_uri": "https://localhost:8080/"
        },
        "id": "p1Jp_V96R3t_",
        "outputId": "edce7ae9-aa61-4678-8b44-395547fb2296"
      },
      "outputs": [
        {
          "output_type": "stream",
          "name": "stdout",
          "text": [
            "Expense Tracker Initialized.\n"
          ]
        }
      ],
      "source": [
        "import pandas as pd\n",
        "import os\n",
        "\n",
        "# File path\n",
        "file_name = \"expenses.csv\"\n",
        "\n",
        "# Check if the file exists; if not, create it\n",
        "if not os.path.exists(file_name):\n",
        "    df = pd.DataFrame(columns=[\"Date\", \"Category\", \"Description\", \"Amount\"])\n",
        "    df.to_csv(file_name, index=False)\n",
        "else:\n",
        "    df = pd.read_csv(file_name)\n",
        "\n",
        "print(\"Expense Tracker Initialized.\")\n"
      ]
    },
    {
      "cell_type": "markdown",
      "source": [
        "2. Adding and Managing Expenses\n",
        "    ● Allow users to:\n",
        "      ○ Addanewexpensewith details (date, category, description, amount).\n",
        "    ○ Updateanexisting expense record by specifying the date and category.\n",
        "    ○ Delete an expense by date or category."
      ],
      "metadata": {
        "id": "LLfI_Cfr38nq"
      }
    },
    {
      "cell_type": "code",
      "execution_count": 2,
      "metadata": {
        "id": "5GNUCkvFSnkm"
      },
      "outputs": [],
      "source": [
        "def add_expense():\n",
        "    date = input(\"Enter the date (YYYY-MM-DD): \")\n",
        "    category = input(\"Enter the category (e.g., Food, Transport): \")\n",
        "    description = input(\"Enter a brief description: \")\n",
        "    amount = float(input(\"Enter the amount: \"))\n",
        "\n",
        "    # Create a new entry\n",
        "    new_entry = {\"Date\": date, \"Category\": category, \"Description\": description, \"Amount\": amount}\n",
        "\n",
        "    # Append to the DataFrame using pd.concat\n",
        "    global df\n",
        "    df = pd.concat([df, pd.DataFrame([new_entry])], ignore_index=True)\n",
        "    df.to_csv(file_name, index=False)\n",
        "    print(\"Expense added successfully.\")\n"
      ]
    },
    {
      "cell_type": "code",
      "execution_count": 4,
      "metadata": {
        "id": "Zxaz0u4RS5Je"
      },
      "outputs": [],
      "source": [
        "def update_expense():\n",
        "    date = input(\"Enter the date of the expense to update (YYYY-MM-DD): \")\n",
        "    category = input(\"Enter the category: \")\n",
        "\n",
        "    # Find the record\n",
        "    idx = df[(df[\"Date\"] == date) & (df[\"Category\"] == category)].index\n",
        "    if not idx.empty:\n",
        "        description = input(\"Enter the new description: \")\n",
        "        amount = float(input(\"Enter the new amount: \"))\n",
        "\n",
        "        df.loc[idx, \"Description\"] = description\n",
        "        df.loc[idx, \"Amount\"] = amount\n",
        "        df.to_csv(file_name, index=False)\n",
        "        print(\"Expense updated successfully.\")\n",
        "    else:\n",
        "        print(\"Expense not found.\")\n"
      ]
    },
    {
      "cell_type": "code",
      "execution_count": 12,
      "metadata": {
        "id": "Kox09uePUjFi"
      },
      "outputs": [],
      "source": [
        "def delete_expense():\n",
        "    date = input(\"Enter the date of the expense to delete (YYYY-MM-DD): \")\n",
        "    category = input(\"Enter the category: \")\n",
        "\n",
        "    # Drop the record\n",
        "    global df\n",
        "    df = df[~((df[\"Date\"] == date) & (df[\"Category\"] == category))]\n",
        "    df.to_csv(file_name, index=False)\n",
        "    print(\"Expense deleted successfully.\")\n"
      ]
    },
    {
      "cell_type": "markdown",
      "source": [
        " 3. Categorizing Expenses\n",
        " ● Predefine categories like Food, Transport, Entertainment, Utilities, and\n",
        " Others.\n",
        " ● Validate that the user selects a valid category for each expense"
      ],
      "metadata": {
        "id": "74Y25M-G4fp-"
      }
    },
    {
      "cell_type": "code",
      "execution_count": 6,
      "metadata": {
        "id": "mze1LMutUmq7"
      },
      "outputs": [],
      "source": [
        "categories = [\"Food\", \"Transport\", \"Entertainment\", \"Utilities\", \"Others\"]\n",
        "\n",
        "def validate_category(category):\n",
        "    if category not in categories:\n",
        "        print(f\"Invalid category. Please choose from {categories}.\")\n",
        "        return False\n",
        "    return True\n"
      ]
    },
    {
      "cell_type": "markdown",
      "source": [
        "4. Expense Analysis\n",
        " ● UsePandasandNumPyto:\n",
        " ○ Calculate total spending for each category.\n",
        " ○ Identify the category with the highest and lowest spending.\n",
        " ○ Computethe daily, weekly, and monthly total expenses.\n",
        ""
      ],
      "metadata": {
        "id": "mPA_-ZU743NS"
      }
    },
    {
      "cell_type": "code",
      "execution_count": 7,
      "metadata": {
        "id": "bO7VB1wnUp81"
      },
      "outputs": [],
      "source": [
        "def analyze_expenses():\n",
        "    print(\"Total Spending by Category:\")\n",
        "    print(df.groupby(\"Category\")[\"Amount\"].sum())\n",
        "\n",
        "    print(\"\\nCategory with Highest Spending:\")\n",
        "    print(df.groupby(\"Category\")[\"Amount\"].sum().idxmax())\n",
        "\n",
        "    print(\"\\nCategory with Lowest Spending:\")\n",
        "    print(df.groupby(\"Category\")[\"Amount\"].sum().idxmin())\n"
      ]
    },
    {
      "cell_type": "markdown",
      "source": [
        "5. Data Visualization\n",
        " ● Visualize the expense data using Matplotlib:\n",
        " ○ Barchart: Spending per category.\n",
        " ○ Linechart: Daily expenses over a month.\n",
        " ○ Piechart: Percentage distribution of spending by category.\n",
        ""
      ],
      "metadata": {
        "id": "B06fO_065Q-6"
      }
    },
    {
      "cell_type": "code",
      "execution_count": 8,
      "metadata": {
        "id": "gQ-2u9_zUtMo"
      },
      "outputs": [],
      "source": [
        "import matplotlib.pyplot as plt\n",
        "\n",
        "def visualize_expenses():\n",
        "    # Bar chart\n",
        "    df.groupby(\"Category\")[\"Amount\"].sum().plot(kind=\"bar\", title=\"Spending by Category\")\n",
        "    plt.show()\n",
        "\n",
        "    # Pie chart\n",
        "    df.groupby(\"Category\")[\"Amount\"].sum().plot(kind=\"pie\", autopct=\"%1.1f%%\", title=\"Spending Distribution\")\n",
        "    plt.show()\n"
      ]
    },
    {
      "cell_type": "code",
      "execution_count": null,
      "metadata": {
        "colab": {
          "base_uri": "https://localhost:8080/"
        },
        "id": "89q_A9kQUyGo",
        "outputId": "d50a1a7b-5d66-47f0-8a9d-1e2649b2be7b"
      },
      "outputs": [
        {
          "output_type": "stream",
          "name": "stdout",
          "text": [
            "\n",
            "Personal Expense Tracker\n",
            "1. Add Expense\n",
            "2. Update Expense\n",
            "3. Delete Expense\n",
            "4. Analyze Expenses\n",
            "5. Visualize Expenses\n",
            "6. Exit\n"
          ]
        }
      ],
      "source": [
        "def menu():\n",
        "    while True:\n",
        "        print(\"\\nPersonal Expense Tracker\")\n",
        "        print(\"1. Add Expense\")\n",
        "        print(\"2. Update Expense\")\n",
        "        print(\"3. Delete Expense\")\n",
        "        print(\"4. Analyze Expenses\")\n",
        "        print(\"5. Visualize Expenses\")\n",
        "        print(\"6. Exit\")\n",
        "\n",
        "        choice = input(\"Choose an option: \")\n",
        "\n",
        "        if choice == \"1\":\n",
        "            add_expense()\n",
        "        elif choice == \"2\":\n",
        "            update_expense()\n",
        "        elif choice == \"3\":\n",
        "            delete_expense()\n",
        "        elif choice == \"4\":\n",
        "            analyze_expenses()\n",
        "        elif choice == \"5\":\n",
        "            visualize_expenses()\n",
        "        elif choice == \"6\":\n",
        "            print(\"Goodbye!\")\n",
        "            break\n",
        "        else:\n",
        "            print(\"Invalid choice. Please try again.\")\n",
        "\n",
        "menu()\n"
      ]
    }
  ],
  "metadata": {
    "colab": {
      "provenance": []
    },
    "kernelspec": {
      "display_name": "Python 3",
      "name": "python3"
    },
    "language_info": {
      "name": "python"
    }
  },
  "nbformat": 4,
  "nbformat_minor": 0
}