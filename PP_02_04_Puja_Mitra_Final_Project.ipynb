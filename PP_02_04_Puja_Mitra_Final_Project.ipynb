{
  "cells": [
    {
      "cell_type": "code",
      "execution_count": 1,
      "metadata": {
        "colab": {
          "base_uri": "https://localhost:8080/"
        },
        "id": "p1Jp_V96R3t_",
        "outputId": "edce7ae9-aa61-4678-8b44-395547fb2296"
      },
      "outputs": [
        {
          "output_type": "stream",
          "name": "stdout",
          "text": [
            "Expense Tracker Initialized.\n"
          ]
        }
      ],
      "source": [
        "import pandas as pd\n",
        "import os\n",
        "\n",
        "# File path\n",
        "file_name = \"expenses.csv\"\n",
        "\n",
        "# Check if the file exists; if not, create it\n",
        "if not os.path.exists(file_name):\n",
        "    df = pd.DataFrame(columns=[\"Date\", \"Category\", \"Description\", \"Amount\"])\n",
        "    df.to_csv(file_name, index=False)\n",
        "else:\n",
        "    df = pd.read_csv(file_name)\n",
        "\n",
        "print(\"Expense Tracker Initialized.\")\n"
      ]
    },
    {
      "cell_type": "code",
      "execution_count": 2,
      "metadata": {
        "id": "5GNUCkvFSnkm"
      },
      "outputs": [],
      "source": [
        "def add_expense():\n",
        "    date = input(\"Enter the date (YYYY-MM-DD): \")\n",
        "    category = input(\"Enter the category (e.g., Food, Transport): \")\n",
        "    description = input(\"Enter a brief description: \")\n",
        "    amount = float(input(\"Enter the amount: \"))\n",
        "\n",
        "    # Create a new entry\n",
        "    new_entry = {\"Date\": date, \"Category\": category, \"Description\": description, \"Amount\": amount}\n",
        "\n",
        "    # Append to the DataFrame using pd.concat\n",
        "    global df\n",
        "    df = pd.concat([df, pd.DataFrame([new_entry])], ignore_index=True)\n",
        "    df.to_csv(file_name, index=False)\n",
        "    print(\"Expense added successfully.\")\n"
      ]
    },
    {
      "cell_type": "code",
      "execution_count": 4,
      "metadata": {
        "id": "Zxaz0u4RS5Je"
      },
      "outputs": [],
      "source": [
        "def update_expense():\n",
        "    date = input(\"Enter the date of the expense to update (YYYY-MM-DD): \")\n",
        "    category = input(\"Enter the category: \")\n",
        "\n",
        "    # Find the record\n",
        "    idx = df[(df[\"Date\"] == date) & (df[\"Category\"] == category)].index\n",
        "    if not idx.empty:\n",
        "        description = input(\"Enter the new description: \")\n",
        "        amount = float(input(\"Enter the new amount: \"))\n",
        "\n",
        "        df.loc[idx, \"Description\"] = description\n",
        "        df.loc[idx, \"Amount\"] = amount\n",
        "        df.to_csv(file_name, index=False)\n",
        "        print(\"Expense updated successfully.\")\n",
        "    else:\n",
        "        print(\"Expense not found.\")\n"
      ]
    },
    {
      "cell_type": "code",
      "execution_count": 5,
      "metadata": {
        "id": "Kox09uePUjFi"
      },
      "outputs": [],
      "source": [
        "def delete_expense():\n",
        "    date = input(\"Enter the date of the expense to delete (YYYY-MM-DD): \")\n",
        "    category = input(\"Enter the category: \")\n",
        "\n",
        "    # Drop the record\n",
        "    global df\n",
        "    df = df[~((df[\"Date\"] == date) & (df[\"Category\"] == category))]\n",
        "    df.to_csv(file_name, index=False)\n",
        "    print(\"Expense deleted successfully.\")\n"
      ]
    },
    {
      "cell_type": "code",
      "execution_count": 6,
      "metadata": {
        "id": "mze1LMutUmq7"
      },
      "outputs": [],
      "source": [
        "categories = [\"Food\", \"Transport\", \"Entertainment\", \"Utilities\", \"Others\"]\n",
        "\n",
        "def validate_category(category):\n",
        "    if category not in categories:\n",
        "        print(f\"Invalid category. Please choose from {categories}.\")\n",
        "        return False\n",
        "    return True\n"
      ]
    },
    {
      "cell_type": "code",
      "execution_count": 7,
      "metadata": {
        "id": "bO7VB1wnUp81"
      },
      "outputs": [],
      "source": [
        "def analyze_expenses():\n",
        "    print(\"Total Spending by Category:\")\n",
        "    print(df.groupby(\"Category\")[\"Amount\"].sum())\n",
        "\n",
        "    print(\"\\nCategory with Highest Spending:\")\n",
        "    print(df.groupby(\"Category\")[\"Amount\"].sum().idxmax())\n",
        "\n",
        "    print(\"\\nCategory with Lowest Spending:\")\n",
        "    print(df.groupby(\"Category\")[\"Amount\"].sum().idxmin())\n"
      ]
    },
    {
      "cell_type": "code",
      "execution_count": 8,
      "metadata": {
        "id": "gQ-2u9_zUtMo"
      },
      "outputs": [],
      "source": [
        "import matplotlib.pyplot as plt\n",
        "\n",
        "def visualize_expenses():\n",
        "    # Bar chart\n",
        "    df.groupby(\"Category\")[\"Amount\"].sum().plot(kind=\"bar\", title=\"Spending by Category\")\n",
        "    plt.show()\n",
        "\n",
        "    # Pie chart\n",
        "    df.groupby(\"Category\")[\"Amount\"].sum().plot(kind=\"pie\", autopct=\"%1.1f%%\", title=\"Spending Distribution\")\n",
        "    plt.show()\n"
      ]
    },
    {
      "cell_type": "code",
      "execution_count": null,
      "metadata": {
        "colab": {
          "base_uri": "https://localhost:8080/",
          "height": 1000
        },
        "id": "89q_A9kQUyGo",
        "outputId": "4aa845ed-076e-4992-a83c-3714b68b2a58"
      },
      "outputs": [
        {
          "name": "stdout",
          "output_type": "stream",
          "text": [
            "\n",
            "Personal Expense Tracker\n",
            "1. Add Expense\n",
            "2. Update Expense\n",
            "3. Delete Expense\n",
            "4. Analyze Expenses\n",
            "5. Visualize Expenses\n",
            "6. Exit\n",
            "Choose an option: 1\n",
            "Enter the date (YYYY-MM-DD): 2024-12-09\n",
            "Enter the category (e.g., Food, Transport): Food\n",
            "Enter a brief description: lunch\n",
            "Enter the amount: 500\n"
          ]
        },
        {
          "output_type": "stream",
          "name": "stderr",
          "text": [
            "<ipython-input-2-3a6f2f57b899>:12: FutureWarning: The behavior of DataFrame concatenation with empty or all-NA entries is deprecated. In a future version, this will no longer exclude empty or all-NA columns when determining the result dtypes. To retain the old behavior, exclude the relevant entries before the concat operation.\n",
            "  df = pd.concat([df, pd.DataFrame([new_entry])], ignore_index=True)\n"
          ]
        },
        {
          "name": "stdout",
          "output_type": "stream",
          "text": [
            "Expense added successfully.\n",
            "\n",
            "Personal Expense Tracker\n",
            "1. Add Expense\n",
            "2. Update Expense\n",
            "3. Delete Expense\n",
            "4. Analyze Expenses\n",
            "5. Visualize Expenses\n",
            "6. Exit\n",
            "Choose an option: 4\n",
            "Total Spending by Category:\n",
            "Category\n",
            "Food    500.0\n",
            "Name: Amount, dtype: float64\n",
            "\n",
            "Category with Highest Spending:\n",
            "Food\n",
            "\n",
            "Category with Lowest Spending:\n",
            "Food\n",
            "\n",
            "Personal Expense Tracker\n",
            "1. Add Expense\n",
            "2. Update Expense\n",
            "3. Delete Expense\n",
            "4. Analyze Expenses\n",
            "5. Visualize Expenses\n",
            "6. Exit\n",
            "Choose an option: 5\n"
          ]
        },
        {
          "output_type": "display_data",
          "data": {
            "text/plain": [
              "<Figure size 640x480 with 1 Axes>"
            ],
            "image/png": "[encoded data removed]"
          },
          "metadata": {}
        },
        {
          "output_type": "display_data",
          "data": {
            "text/plain": [
              "<Figure size 640x480 with 1 Axes>"
            ],
            "image/png": "[encoded data removed]"
          },
          "metadata": {}
        },
        {
          "output_type": "stream",
          "name": "stdout",
          "text": [
            "\n",
            "Personal Expense Tracker\n",
            "1. Add Expense\n",
            "2. Update Expense\n",
            "3. Delete Expense\n",
            "4. Analyze Expenses\n",
            "5. Visualize Expenses\n",
            "6. Exit\n"
          ]
        }
      ],
      "source": [
        "def menu():\n",
        "    while True:\n",
        "        print(\"\\nPersonal Expense Tracker\")\n",
        "        print(\"1. Add Expense\")\n",
        "        print(\"2. Update Expense\")\n",
        "        print(\"3. Delete Expense\")\n",
        "        print(\"4. Analyze Expenses\")\n",
        "        print(\"5. Visualize Expenses\")\n",
        "        print(\"6. Exit\")\n",
        "\n",
        "        choice = input(\"Choose an option: \")\n",
        "\n",
        "        if choice == \"1\":\n",
        "            add_expense()\n",
        "        elif choice == \"2\":\n",
        "            update_expense()\n",
        "        elif choice == \"3\":\n",
        "            delete_expense()\n",
        "        elif choice == \"4\":\n",
        "            analyze_expenses()\n",
        "        elif choice == \"5\":\n",
        "            visualize_expenses()\n",
        "        elif choice == \"6\":\n",
        "            print(\"Goodbye!\")\n",
        "            break\n",
        "        else:\n",
        "            print(\"Invalid choice. Please try again.\")\n",
        "\n",
        "menu()\n"
      ]
    }
  ],
  "metadata": {
    "colab": {
      "provenance": []
    },
    "kernelspec": {
      "display_name": "Python 3",
      "name": "python3"
    },
    "language_info": {
      "name": "python"
    }
  },
  "nbformat": 4,
  "nbformat_minor": 0
}